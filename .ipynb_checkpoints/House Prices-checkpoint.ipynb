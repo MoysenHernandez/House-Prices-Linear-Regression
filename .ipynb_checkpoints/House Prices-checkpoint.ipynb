{
 "cells": [
  {
   "cell_type": "markdown",
   "id": "2b86f209",
   "metadata": {},
   "source": [
    "Cargamos las librerías"
   ]
  },
  {
   "cell_type": "code",
   "execution_count": 6,
   "id": "cb8df203-5467-4b12-ae2f-a7ee859a7974",
   "metadata": {},
   "outputs": [],
   "source": [
    "import pandas as pd\n",
    "import numpy as np\n",
    "import matplotlib.pyplot as plt\n",
    "from sklearn.model_selection import train_test_split\n",
    "from sklearn.linear_model import LinearRegression\n",
    "from sklearn.metrics import mean_squared_error, r2_score\n",
    "import seaborn as sns\n"
   ]
  },
  {
   "cell_type": "markdown",
   "id": "1899af48",
   "metadata": {},
   "source": [
    "Nos aseguramos que el GPU este bien configurado"
   ]
  },
  {
   "cell_type": "code",
   "execution_count": null,
   "id": "1cdf9368-e1a2-40d2-a613-4268325725f3",
   "metadata": {},
   "outputs": [],
   "source": [
    "print(\"Num GPUs Available: \", len(tf.config.list_physical_devices('GPU')))\n"
   ]
  },
  {
   "cell_type": "markdown",
   "id": "c1dceba0",
   "metadata": {},
   "source": [
    "Cargamos el Dataset y obtenemos información del mismo"
   ]
  },
  {
   "cell_type": "code",
   "execution_count": 7,
   "id": "8b6584b4",
   "metadata": {},
   "outputs": [],
   "source": [
    "# Cargar datos de entrenamiento y prueba\n",
    "train_data = pd.read_csv(r\"C:\\Users\\52555\\Documents\\Proyectos\\Machine Learning\\House Prices\\train.csv\")\n",
    "test_data = pd.read_csv(r\"C:\\Users\\52555\\Documents\\Proyectos\\Machine Learning\\House Prices\\test.csv\")\n"
   ]
  },
  {
   "cell_type": "markdown",
   "id": "86c8466b",
   "metadata": {},
   "source": [
    "Preprocesamiento de Datos"
   ]
  },
  {
   "cell_type": "code",
   "execution_count": null,
   "id": "5f3fe02f",
   "metadata": {},
   "outputs": [],
   "source": []
  }
 ],
 "metadata": {
  "kernelspec": {
   "display_name": "Python 3 (ipykernel)",
   "language": "python",
   "name": "python3"
  },
  "language_info": {
   "codemirror_mode": {
    "name": "ipython",
    "version": 3
   },
   "file_extension": ".py",
   "mimetype": "text/x-python",
   "name": "python",
   "nbconvert_exporter": "python",
   "pygments_lexer": "ipython3",
   "version": "3.9.18"
  }
 },
 "nbformat": 4,
 "nbformat_minor": 5
}
